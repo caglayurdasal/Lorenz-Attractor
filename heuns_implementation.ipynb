{
 "cells": [
  {
   "cell_type": "code",
   "execution_count": 1,
   "metadata": {},
   "outputs": [],
   "source": [
    "import numpy as np\n",
    "import plotly.graph_objects as go\n",
    "from scipy.integrate import odeint\n",
    "import matplotlib.pyplot as plt\n",
    "%matplotlib inline\n",
    "\n",
    "rho = 28  # scaled Rayleigh number\n",
    "sigma = 10  # Prandtl number\n",
    "beta = 8 / 3  # geometry aspect ratio\n",
    "\n",
    "# initial conditions\n",
    "y0 = [-8, 8, 27]  # initial state\n",
    "dt = 0.01  # change in time\n",
    "T = 25  # endpoint in time\n",
    "num_time_pts = int(T / dt)  # time points for trajectory\n",
    "t = np.linspace(0, T, num_time_pts)  # time interval\n",
    "\n",
    "def lorenz(t, y):\n",
    "    dy = [sigma * (y[1] - y[0]), y[0] * (rho - y[2]) - y[1], y[0] * y[1] - beta * y[2]]\n",
    "    return np.array(dy)"
   ]
  },
  {
   "cell_type": "markdown",
   "metadata": {},
   "source": [
    "#### Heun's Method\n",
    "X_{n+1} = X_n + (h/2) * (f(X_n, t_n) + f(X_n + h * f(X_n, t_n), t_n + h))"
   ]
  },
  {
   "cell_type": "code",
   "execution_count": null,
   "metadata": {},
   "outputs": [],
   "source": [
    "def heuns_method(x_0, y_0, z_0, delta_t, t_end):\n",
    "    # Time points\n",
    "    t = np.arange(0, t_end, delta_t)\n",
    "\n",
    "    \n",
    "    x = np.empty_like(t)\n",
    "    y = np.empty_like(t)\n",
    "    z = np.empty_like(t)\n",
    "\n",
    "    # Set initial conditions\n",
    "    x[0] = x_0\n",
    "    y[0] = y_0\n",
    "    z[0] = z_0\n",
    "\n",
    "    # Write a for loop to keep updating r and f as time goes on\n",
    "    for i in range(1, len(t)):\n",
    "        x[i] = x[i - 1] + delta_t * sigma * (y[i - 1] - x[i - 1])\n",
    "        y[i] = y[i - 1] + delta_t * (x[i - 1] * (rho - z[i - 1]) - y[i - 1])\n",
    "        z[i] = z[i - 1] + delta_t * (x[i - 1] * y[i - 1] - beta * z[i - 1])\n",
    "\n",
    "    return t, x, y, z"
   ]
  }
 ],
 "metadata": {
  "kernelspec": {
   "display_name": "scipro-project",
   "language": "python",
   "name": "python3"
  },
  "language_info": {
   "codemirror_mode": {
    "name": "ipython",
    "version": 3
   },
   "file_extension": ".py",
   "mimetype": "text/x-python",
   "name": "python",
   "nbconvert_exporter": "python",
   "pygments_lexer": "ipython3",
   "version": "3.12.0"
  }
 },
 "nbformat": 4,
 "nbformat_minor": 2
}
