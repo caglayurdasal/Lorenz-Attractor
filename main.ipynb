{
 "cells": [
  {
   "cell_type": "code",
   "execution_count": 2,
   "metadata": {},
   "outputs": [],
   "source": [
    "import numpy as np\n",
    "import plotly.graph_objects as go\n",
    "from scipy.integrate import odeint\n",
    "import matplotlib.pyplot as plt"
   ]
  },
  {
   "cell_type": "code",
   "execution_count": 1,
   "metadata": {},
   "outputs": [],
   "source": [
    "rho = 28  # scaled Rayleigh number\n",
    "sigma = 10  # Prandtl number\n",
    "beta = 8 / 3  # geometry ascpet ratio\n",
    "T = np.linspace(0, 1000, 50)  # time interval\n",
    "V = np.zeros(3)"
   ]
  },
  {
   "cell_type": "code",
   "execution_count": 3,
   "metadata": {},
   "outputs": [],
   "source": [
    "def lorenz_sys(V, sigma, rho, beta):\n",
    "    \"\"\"\n",
    "    (dtype:function) dV = lorenz_sys(V, sigma, rho, beta)\n",
    "    Computes the vector field for the Lorenz system.\n",
    "    Args:\n",
    "        V: (x,y,z)\n",
    "        returns: array of states at different time points\n",
    "    \"\"\"\n",
    "    dV = np.zeros(3)  # (0,0,0)\n",
    "    dV[0] = sigma * (V[1] - V[0])\n",
    "    dV[1] = rho * V[0] - V[1] - V[0] * V[2]\n",
    "    dV[2] = -beta * V[2] + V[0] * V[1]\n",
    "    return dV"
   ]
  },
  {
   "cell_type": "code",
   "execution_count": null,
   "metadata": {},
   "outputs": [],
   "source": [
    "def rk4(lorenz_function, T,):\n",
    "    "
   ]
  },
  {
   "cell_type": "code",
   "execution_count": 3,
   "metadata": {},
   "outputs": [],
   "source": [
    "# solve the equation using runge-kutta(w/o scipy.odeint)\n",
    "def runge_kutta(x, y, z):\n",
    "    \"\"\"\n",
    "    Args:\n",
    "        x (float): variable x\n",
    "        y (float): variable y\n",
    "        z (float): variable_z\n",
    "        returns: state variables\n",
    "    \"\"\""
   ]
  },
  {
   "cell_type": "code",
   "execution_count": null,
   "metadata": {},
   "outputs": [],
   "source": [
    "# plot w matplotlib\n",
    "# solve the equation using runge-kutta(w/odeint)\n",
    "# plot w matplotlib\n",
    "# solve the equation using euler\n",
    "# plot w matplotlib\n",
    "# solve the equation using heun(improved euler)\n",
    "# plot w matplotlib\n",
    "# compare error rates and decide the best by performance\n",
    "# plot animation w plotly"
   ]
  }
 ],
 "metadata": {
  "kernelspec": {
   "display_name": "scipro-project",
   "language": "python",
   "name": "python3"
  },
  "language_info": {
   "codemirror_mode": {
    "name": "ipython",
    "version": 3
   },
   "file_extension": ".py",
   "mimetype": "text/x-python",
   "name": "python",
   "nbconvert_exporter": "python",
   "pygments_lexer": "ipython3",
   "version": "3.12.0"
  }
 },
 "nbformat": 4,
 "nbformat_minor": 2
}
